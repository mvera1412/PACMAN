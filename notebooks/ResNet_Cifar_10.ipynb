{
  "nbformat": 4,
  "nbformat_minor": 0,
  "metadata": {
    "colab": {
      "provenance": []
    },
    "kernelspec": {
      "name": "python3",
      "display_name": "Python 3"
    },
    "language_info": {
      "name": "python"
    }
  },
  "cells": [
    {
      "cell_type": "code",
      "execution_count": null,
      "metadata": {
        "id": "YJnjI598AZpq"
      },
      "outputs": [],
      "source": [
        "import numpy as np\n",
        "import pylab as plt\n",
        "import pandas as pd\n",
        "import tensorflow as tf\n",
        "import pickle"
      ]
    },
    {
      "cell_type": "code",
      "source": [
        "def gload(gsname):\n",
        "    with tf.io.gfile.GFile(gsname, \"rb\") as file:\n",
        "        obj = pickle.load(file)\n",
        "    return obj\n",
        "\n",
        "def load_precomp(basedir):\n",
        "    Ms = gload(f'{basedir}/Mlist')\n",
        "    ks = gload(f'{basedir}/ks')\n",
        "    return Ms, ks\n",
        "\n",
        "def load(name):\n",
        "    return load_precomp(f'gs://hml-public/dd/{name}')\n",
        "\n",
        "Ms, ks = load('cifar10-resnet18k-50k-adam')"
      ],
      "metadata": {
        "id": "LAF1dvmxA-Ky"
      },
      "execution_count": null,
      "outputs": []
    },
    {
      "cell_type": "code",
      "source": [
        "kmax=np.max(ks)\n",
        "test_err = Ms[0]['Test Error'][:kmax, -1]\n",
        "train_err = Ms[0]['Train Error'][:kmax, -1]\n",
        "test_loss = Ms[0]['Test Loss'][:kmax, -1]\n",
        "train_loss = Ms[0]['Train Loss'][:kmax, -1]\n",
        "gen = -np.log(1-test_err)-train_loss"
      ],
      "metadata": {
        "id": "uv6KJgnoBRsG"
      },
      "execution_count": null,
      "outputs": []
    },
    {
      "cell_type": "code",
      "source": [
        "plt.rcParams.update({'font.size': 13})\n",
        "fig, ax = plt.subplots()\n",
        "ax.plot( train_err, label=r'$R_S^\\ast(h)$')\n",
        "ax.plot( 1-np.exp(-train_loss), label=r'$1-e^{-CE_S(\\mathbf{h})}$',linestyle='dashed')\n",
        "ax.plot( test_err, label=r'$R_p^\\ast(h)$',linestyle='dotted')\n",
        "ax.set_xlabel(\"ResNet width\")\n",
        "ax.set_ylabel(\"Metric\")\n",
        "ax.legend(loc='upper right')\n",
        "ax.legend(loc='upper right')"
      ],
      "metadata": {
        "id": "QjRt2aCrAlZL"
      },
      "execution_count": null,
      "outputs": []
    }
  ]
}